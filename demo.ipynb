{
 "cells": [
  {
   "cell_type": "code",
   "execution_count": 1,
   "metadata": {},
   "outputs": [],
   "source": [
    "from jupyter_show_img import show\n",
    "import numpy as np"
   ]
  },
  {
   "cell_type": "code",
   "execution_count": null,
   "metadata": {},
   "outputs": [],
   "source": []
  },
  {
   "cell_type": "code",
   "execution_count": 2,
   "metadata": {},
   "outputs": [],
   "source": [
    "w = 256\n",
    "sh = (w, w)\n",
    "val = np.sin(np.linspace(0, 10, w)) * 0.5 + 0.5\n",
    "img = np.stack([\n",
    "\tnp.broadcast_to(val[:, None], sh),\n",
    "\tnp.broadcast_to(val[None, :], sh),\n",
    "\tval[:, None] @ val[None, :],\n",
    "], axis=2)"
   ]
  },
  {
   "cell_type": "code",
   "execution_count": 3,
   "metadata": {},
   "outputs": [
    {
     "data": {
      "text/html": [
       "<div style=\"display:flex; justify-content: space-evenly;\">\n",
       "<img src=\"data:image/webp;base64,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\n",
       "\" />\n",
       "</div>"
      ]
     },
     "metadata": {},
     "output_type": "display_data"
    }
   ],
   "source": [
    "show(img)"
   ]
  },
  {
   "cell_type": "markdown",
   "metadata": {},
   "source": [
    "---\n",
    "\n",
    "*Single channel* image is converted using a color-map.  \n",
    "Boolean image is shown as black vs white."
   ]
  },
  {
   "cell_type": "code",
   "execution_count": 7,
   "metadata": {},
   "outputs": [
    {
     "data": {
      "text/html": [
       "<div style=\"display:flex; justify-content: space-evenly;\">\n",
       "<img src=\"data:image/webp;base64,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\n",
       "\" />\n",
       "<img src=\"data:image/webp;base64,UklGRo4DAABXRUJQVlA4IIIDAABwKwCdASoAAQABPl0kjkWjoiEc/kQAOAXEpu4XBR6mcNz+/IvTt/bfrZJ/KrpiOMfBvZPmh//7ymJ/d3en6z/9oC/935ac7t07d6DAVGJr8japm5T96YMSMa0Fv2WOe3uvCedZsIecxCmvxNTf5+6zdnja3C0t9nTYQWEgm9bbcdXNW/ZY57bwbj9bQW/ZY57e68J51mo4fuIC2246uat+yxz2912nBvM6du9BgKjE1+RtUzcp+9U2lZsGKffGam/z91m7PG1uFpb7OoPQnWxAMwKjE1+RtUzcp+9U2Jr8i6eMk6sPXNW/ZY57e68J51aHIJWvS85keh0+s/bFiOQNMaWMvpFel5zI9Dp9Z+9zmIIVVOp+Jqb/P3Wbs8bW4Wlvs6bCDBfC0iAYLIUNkKGyFDZChshQ2QobIUNkKGyFDZChshQyT1D+vT7e68J51mweuatANMZvkuByxz2914TzrNguwAD+/T8I0BMiCxItlfGT/+rW/5ww/LknWG3OplzqQHfMAAAADFU1tkCONL2OGhfvbSn6AlusCLscGi89P2aMRdjg1gknc8c7xUt0J9A5BXt6r6sEweNp3l77tn98A9YIH8RHT/OUEOWmCG5p66Mn6NKbgh5RjM3OYx/I75Q3Sl6toe9ZEAlYgAsJxXM03yhuZrjIUwaNdlof+Pc7zv57PjuoAJcxLFNgAAAAAVCKaBZfkQLr9aA+bVcYKYiLBoHEkATwPrJCJj1m/rj3aBQ7pQHkYzjcazwCLrnW/J3OjQRV8/Cqr6RrTqAS95ZpcHW79x8eUhfHMMwZ+wL7cThaPhHIfsVT/CR1miRLFVY4U8W8OQtkNy1I3ocojN7sT8FyJTLwcKx3mRG597QQdhVm4lfpHQeAnPCzOmwcsi+cbU+4FGpe+mJoQVwsP294M4I8ODCIfabKyVQPSGwSft8Jg7+u7WGQCHpbtfj6LpNOC/7WS4iDdCWEqrAuwQu1RMGnDsU0Gkqt15zlTU6bdHVs8tJfIvPPKKJILkqJrn2lzzelzhsnQFV8pTCZfbUMw+mP5zSwHidb5A0tZ5eufs203O2rBglLGVJaPpcHkxXLfYfNcvYnZfRU6wbP8iKMW6ZpYqEnqAhyAHxNjGrhrz6moDh5YM4y8JpALNYMAUBAAAFjVyH090AzHhL+rE7wY3UaXY8pAoyeRETYj7qwE0AA\n",
       "\" />\n",
       "<img src=\"data:image/webp;base64,UklGRgABAABXRUJQVlA4IPQAAACwFwCdASoAAQABPm00lkekIyIhKAgAgA2JaW7hdgEbnQB+AFOAfgBOgH2ABbtZddNM6rZ77q/MqGBzWp2RbKVF8kMRRaHIi2UqL5IYii0ORFspUXyQxFFoch2K9p8ktQv31fmVDA5rJan920pUXyQxFFociLZSovkhiKLQ5EWylRfJDEUWhyInqIC0iNxslqF++r8yoYHPUWhyItlKi+SGIotDkRbKVF8kMRRaHIi2UqL5IYiiyd7MzaZ1Wz33V+ZUMDmslaAA/vUH7a4PqAAAtP7srMcPI1BgAAyv6h3bhPhgJsVfXdAARf+NRtDhoEfQAAAA\n",
       "\" />\n",
       "</div>"
      ]
     },
     "metadata": {},
     "output_type": "display_data"
    }
   ],
   "source": [
    "show([img, img[:, :, 0], img[:, :, 0] > 0.5])"
   ]
  },
  {
   "cell_type": "markdown",
   "metadata": {},
   "source": [
    "`show(img_1, img_2)` will draw each image on a separate row  \n",
    "`show([img_1, img_2])` will draw both images in one row  \n",
    "`show([img_1, img_2], [img_3, img_4])` will draw two rows  "
   ]
  },
  {
   "cell_type": "code",
   "execution_count": null,
   "metadata": {},
   "outputs": [],
   "source": []
  }
 ],
 "metadata": {
  "kernelspec": {
   "display_name": "Python 3",
   "language": "python",
   "name": "python3"
  },
  "language_info": {
   "codemirror_mode": {
    "name": "ipython",
    "version": 3
   },
   "file_extension": ".py",
   "mimetype": "text/x-python",
   "name": "python",
   "nbconvert_exporter": "python",
   "pygments_lexer": "ipython3",
   "version": "3.7.3"
  }
 },
 "nbformat": 4,
 "nbformat_minor": 4
}
