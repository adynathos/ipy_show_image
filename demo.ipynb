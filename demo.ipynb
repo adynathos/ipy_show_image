{
 "cells": [
  {
   "cell_type": "markdown",
   "metadata": {},
   "source": [
    "Display images in jupyter web UI\n",
    "* `show(img_1, img_2)` will draw each image on a separate row\n",
    "* `show([img_1, img_2])` will draw both images in one row\n",
    "* `show([img_1, img_2], [img_3, img_4])` will draw two rows of two images\n",
    "\n",
    "Specifying the format:  \n",
    "* `show(..., fmt='webp')`: image format, usually png jpeg webp\n",
    "\n",
    "Whether to try converting unusual shapes and datatypes to the needed RGB:  \n",
    "* `show(..., adapt=True or False)`\n",
    "\n",
    "Convenience functions `imread`, `imwrite` are also provided (based on PIL)."
   ]
  },
  {
   "cell_type": "code",
   "execution_count": 7,
   "metadata": {},
   "outputs": [],
   "source": [
    "from show_image import show\n",
    "import numpy as np"
   ]
  },
  {
   "cell_type": "markdown",
   "metadata": {},
   "source": [
    "### Grid"
   ]
  },
  {
   "cell_type": "code",
   "execution_count": 5,
   "metadata": {},
   "outputs": [
    {
     "data": {
      "text/html": [
       "<div style=\"display:flex; justify-content: space-evenly;\">\n",
       "<div style=\"width:100%;\"><img src=\"data:image/png;base64,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\n",
       "\" /></div>\n",
       "</div>"
      ]
     },
     "metadata": {},
     "output_type": "display_data"
    },
    {
     "data": {
      "text/html": [
       "<div style=\"display:flex; justify-content: space-evenly;\">\n",
       "<div style=\"width:100%;\"><img src=\"data:image/png;base64,iVBORw0KGgoAAAANSUhEUgAAAUAAAADwCAIAAAD+Tyo8AAACq0lEQVR4nO3asY3CQBRFUbOiCbdB5DZojpqI3IbbIN1okECydc056U9ecjXJTBMAAAAAAAAAAADfuYzPz9u8zw5+yrJuR084ib+jBwCfEzCECRjCBAxhAoYwAUOYgCFMwBAmYAgTMIQJGMIEDGEChjABQ5iAIUzAECZgCBMwhAkYwgQMYQKGMAFDmIAhTMAQJmAIEzCECRjCBAxhAoYwAUOYgCFMwBAmYAgTMIQJGMIEDGEChjABQ5iAIUzAECZgCBMwhAkYwgQMYQKGMAFDmIAhTMAQJmAIEzCECRjCBAxhAoYwAUOYgCFMwBAmYAgTMIQJGMIEDGEChjABQ5iAIUzAECZgCBMwhAkYwgQMYQKGMAFDmIAhTMAQJmAIEzCECRjCBAxhAoYwAUOYgCFMwBAmYAgTMIQJGMIEDGEChjABQ5iAIUzAECZgCLsePYBzuj/mwXWeRlf+25Z1cPUCQ5iAIUzAECZgCBMwhAkYwgQMYQKGMAFD2JufWMu67bODk/HXah9eYAgTMIQJGMIEDGEChjABQ5iAIUzAECZgCBMwhAkYwgQMYQKGMAFDmIAhTMAQJmAIEzCECRjCBAxhAoYwAUOYgCFMwBAmYAgTMIQJGMIEDGEChjABQ5iAIUzAECZgCBMwhAkYwgQMYQKGMAFDmIAhTMAQJmAIEzCECRjCBAxhAoYwAUOYgCFMwBAmYAgTMIQJGMIEDGEChjABQ5iAIUzAECZgCBMwhAkYwgQMYQKGMAFDmIAhTMAQJmAIEzCECRjCBAxhAoYwAUOYgCFMwBAmYAgTMIQJGMIEDGEChjABQ5iAIUzAECZgCBMwhAkYwgQMYQKGMAFDmIAhTMAQJmAAAAAAAAAAAAAAAAAAAAAAAAAAAAAAAAAAAAAAAAAAAAAAAAAAIOsFoI4JvlmKPTkAAAAASUVORK5CYII=\n",
       "\" /></div>\n",
       "<div style=\"width:100%;\"><img src=\"data:image/png;base64,iVBORw0KGgoAAAANSUhEUgAAAUAAAADwCAIAAAD+Tyo8AAACq0lEQVR4nO3asY3CQBRFUbOiCbdB5DZojpqI3IbbIN1okECydc056U9ecjXJTBMAAAAAAAAAAADfuYzPz9u8zw5+yrJuR084ib+jBwCfEzCECRjCBAxhAoYwAUOYgCFMwBAmYAgTMIQJGMIEDGEChjABQ5iAIUzAECZgCBMwhAkYwgQMYQKGMAFDmIAhTMAQJmAIEzCECRjCBAxhAoYwAUOYgCFMwBAmYAgTMIQJGMIEDGEChjABQ5iAIUzAECZgCBMwhAkYwgQMYQKGMAFDmIAhTMAQJmAIEzCECRjCBAxhAoYwAUOYgCFMwBAmYAgTMIQJGMIEDGEChjABQ5iAIUzAECZgCBMwhAkYwgQMYQKGMAFDmIAhTMAQJmAIEzCECRjCBAxhAoYwAUOYgCFMwBAmYAgTMIQJGMIEDGEChjABQ5iAIUzAECZgCLsePYBzuj/mwXWeRlf+25Z1cPUCQ5iAIUzAECZgCBMwhAkYwgQMYQKGMAFD2JufWMu67bODk/HXah9eYAgTMIQJGMIEDGEChjABQ5iAIUzAECZgCBMwhAkYwgQMYQKGMAFDmIAhTMAQJmAIEzCECRjCBAxhAoYwAUOYgCFMwBAmYAgTMIQJGMIEDGEChjABQ5iAIUzAECZgCBMwhAkYwgQMYQKGMAFDmIAhTMAQJmAIEzCECRjCBAxhAoYwAUOYgCFMwBAmYAgTMIQJGMIEDGEChjABQ5iAIUzAECZgCBMwhAkYwgQMYQKGMAFDmIAhTMAQJmAIEzCECRjCBAxhAoYwAUOYgCFMwBAmYAgTMIQJGMIEDGEChjABQ5iAIUzAECZgCBMwhAkYwgQMYQKGMAFDmIAhTMAQJmAAAAAAAAAAAAAAAAAAAAAAAAAAAAAAAAAAAAAAAAAAAAAAAAAAIOsFoI4JvlmKPTkAAAAASUVORK5CYII=\n",
       "\" /></div>\n",
       "</div>\n",
       "<div style=\"display:flex; justify-content: space-evenly;\">\n",
       "<div style=\"width:100%;\"><img src=\"data:image/png;base64,iVBORw0KGgoAAAANSUhEUgAAAUAAAADwCAIAAAD+Tyo8AAACq0lEQVR4nO3asY3CQBRFUbOiCbdB5DZojpqI3IbbIN1okECydc056U9ecjXJTBMAAAAAAAAAAADfuYzPz9u8zw5+yrJuR084ib+jBwCfEzCECRjCBAxhAoYwAUOYgCFMwBAmYAgTMIQJGMIEDGEChjABQ5iAIUzAECZgCBMwhAkYwgQMYQKGMAFDmIAhTMAQJmAIEzCECRjCBAxhAoYwAUOYgCFMwBAmYAgTMIQJGMIEDGEChjABQ5iAIUzAECZgCBMwhAkYwgQMYQKGMAFDmIAhTMAQJmAIEzCECRjCBAxhAoYwAUOYgCFMwBAmYAgTMIQJGMIEDGEChjABQ5iAIUzAECZgCBMwhAkYwgQMYQKGMAFDmIAhTMAQJmAIEzCECRjCBAxhAoYwAUOYgCFMwBAmYAgTMIQJGMIEDGEChjABQ5iAIUzAECZgCLsePYBzuj/mwXWeRlf+25Z1cPUCQ5iAIUzAECZgCBMwhAkYwgQMYQKGMAFD2JufWMu67bODk/HXah9eYAgTMIQJGMIEDGEChjABQ5iAIUzAECZgCBMwhAkYwgQMYQKGMAFDmIAhTMAQJmAIEzCECRjCBAxhAoYwAUOYgCFMwBAmYAgTMIQJGMIEDGEChjABQ5iAIUzAECZgCBMwhAkYwgQMYQKGMAFDmIAhTMAQJmAIEzCECRjCBAxhAoYwAUOYgCFMwBAmYAgTMIQJGMIEDGEChjABQ5iAIUzAECZgCBMwhAkYwgQMYQKGMAFDmIAhTMAQJmAIEzCECRjCBAxhAoYwAUOYgCFMwBAmYAgTMIQJGMIEDGEChjABQ5iAIUzAECZgCBMwhAkYwgQMYQKGMAFDmIAhTMAQJmAAAAAAAAAAAAAAAAAAAAAAAAAAAAAAAAAAAAAAAAAAAAAAAAAAIOsFoI4JvlmKPTkAAAAASUVORK5CYII=\n",
       "\" /></div>\n",
       "<div style=\"width:100%;\"><img src=\"data:image/png;base64,iVBORw0KGgoAAAANSUhEUgAAAUAAAADwCAIAAAD+Tyo8AAACq0lEQVR4nO3asY3CQBRFUbOiCbdB5DZojpqI3IbbIN1okECydc056U9ecjXJTBMAAAAAAAAAAADfuYzPz9u8zw5+yrJuR084ib+jBwCfEzCECRjCBAxhAoYwAUOYgCFMwBAmYAgTMIQJGMIEDGEChjABQ5iAIUzAECZgCBMwhAkYwgQMYQKGMAFDmIAhTMAQJmAIEzCECRjCBAxhAoYwAUOYgCFMwBAmYAgTMIQJGMIEDGEChjABQ5iAIUzAECZgCBMwhAkYwgQMYQKGMAFDmIAhTMAQJmAIEzCECRjCBAxhAoYwAUOYgCFMwBAmYAgTMIQJGMIEDGEChjABQ5iAIUzAECZgCBMwhAkYwgQMYQKGMAFDmIAhTMAQJmAIEzCECRjCBAxhAoYwAUOYgCFMwBAmYAgTMIQJGMIEDGEChjABQ5iAIUzAECZgCLsePYBzuj/mwXWeRlf+25Z1cPUCQ5iAIUzAECZgCBMwhAkYwgQMYQKGMAFD2JufWMu67bODk/HXah9eYAgTMIQJGMIEDGEChjABQ5iAIUzAECZgCBMwhAkYwgQMYQKGMAFDmIAhTMAQJmAIEzCECRjCBAxhAoYwAUOYgCFMwBAmYAgTMIQJGMIEDGEChjABQ5iAIUzAECZgCBMwhAkYwgQMYQKGMAFDmIAhTMAQJmAIEzCECRjCBAxhAoYwAUOYgCFMwBAmYAgTMIQJGMIEDGEChjABQ5iAIUzAECZgCBMwhAkYwgQMYQKGMAFDmIAhTMAQJmAIEzCECRjCBAxhAoYwAUOYgCFMwBAmYAgTMIQJGMIEDGEChjABQ5iAIUzAECZgCBMwhAkYwgQMYQKGMAFDmIAhTMAQJmAAAAAAAAAAAAAAAAAAAAAAAAAAAAAAAAAAAAAAAAAAAAAAAAAAIOsFoI4JvlmKPTkAAAAASUVORK5CYII=\n",
       "\" /></div>\n",
       "</div>"
      ]
     },
     "metadata": {},
     "output_type": "display_data"
    }
   ],
   "source": [
    "img = np.zeros((480, 640, 3), dtype=np.uint8)\n",
    "img[20:220, 20:420] = (200, 50, 25)\n",
    "img[200:400, 400:620] = (25, 200, 50)\n",
    "img_s = img[::2, ::2]\n",
    "\n",
    "show(img, fmt='png')\n",
    "\n",
    "show([img_s, img_s], [img_s, img_s], fmt='png')"
   ]
  },
  {
   "cell_type": "markdown",
   "metadata": {},
   "source": [
    "### Conversion\n",
    "\n",
    "* HxWx3 float is converted from 0...1 to 0...255\n",
    "* Hxwx**1** is converted using a color-map\n",
    "* Boolean image is shown as black vs white\n"
   ]
  },
  {
   "cell_type": "code",
   "execution_count": 8,
   "metadata": {},
   "outputs": [
    {
     "data": {
      "text/html": [
       "<div style=\"display:flex; justify-content: space-evenly;\">\n",
       "<div style=\"width:100%;\"><img src=\"data:image/webp;base64,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\n",
       "\" /></div>\n",
       "<div style=\"width:100%;\"><img src=\"data:image/webp;base64,UklGRvQEAABXRUJQVlA4IOgEAACwMQCdASoAAQABPm0sk0WkIqGYSZZsQAbEpu+F/cC//6wYnuGLgAboBbfOTjSJ/hQl9brric3qdrv2R0WxXrF5zU7VtU5I+FyexFwKUsfq5PYi4FLw/v1/T8/x+/7fr+n5/j9/2/X89OBvWNz2y/mf2n8z+0/mf2n8z+0/mf2nw3ZoMacitLH6uT2IuBSlj9XEtYei5PYi4FKWP1cnsRcClLA0o9HbP08P7ziYw2Useef/5ht2ICH2DXitgbBhYk0XoGYlQaUB6JtN+sKC1xhspaAzv1/T8/x+/7fr+n5/j9/2/X9CFKP6EEaO25GYPV296hCRrbhdDVKVVtBNeoF5gfJYeYq0SVnPvQYwert71CEjW3C6DWsPRcnsRcClLH6uT2IuBSlgpWLCEPkc+3oCdyrAT2BO5VgJ7AnciDFqcxFwKUsfq5PYi4FKWP3o3HZtTz/KcRvm16voeX4zf9u1h3+i2K9YvOana79kdFsV6xecQRa206UP1cnsRcClLH6uT2Ieml6xf4S00qSPhcnsRcClLH5gAP7lh/z62R/g/eBk0h/AwGptf6WG6f//SuT/6i///ilTwpvu9XPs+pzPqcz6nM+pzVf+AcPvs0p/sKHyEJAOqbmzKv5XFeaQ00onddoCAqSWkrZ4/XaKCEF+wRemm7jMEeQom1UgpAE0twFErhXOYKVQraWUIavVyjwyLl4btUIbqIPlz/DAq/MNbWidCzW0U3OlmZ9EQixmi5RMlxsn/oRo38OP6e5VDIr86Pzf5zMoIw38tKAR2UbuzBt12fLkUQ8tnf/zdp4vSnBgQpyo411nuqW0BTv/5u2f+gBmPzXf6neTb3IgAeP4gjwnrPht+lM+bfSrsZUqkchzvdIVFTlOlICV7SkBK9pSAle0pASvaUpBkGenofv1C+O6n5xlTWP1B5lSgfgz/gJSG1oAhdGpBZYcZ/pCEJoXJ03arCOd2wtWF9zRmMjNC46dPiWkIO5GuRtKqwjndsLVhfc0Zs/MlFdDYAIr2l+H7g3xrwO5w80I+FfgN9jcjpeELhGdlwbaxM7WcCA/INWuADffJFwEZ2yUy53/HYHWaBe/OWKqPIOVnl8Dsk5pKMXMTzivl5xY7ykqWihSUten35sf82H9DVkjDhqQdyvdPqV6md7ZLD91zv5dRMkYpKNBxFJliBUhNr12/6KNh+c4EyvXb/oppb/59bI/wfp6Q/gzv//Qv+IFuUB84x9JIbsWIVc0ep58XX3TjnCMl2ILk5gRWWGEpk5/oDh99mlP9DUDiHAkckIyen/0i7qebaQr0iOOlKZyzN4KNEwkx4x/3KFE6N7e8sj3/hZip5M1CATzRbxsMmlRy5UlYfAaHhUp5M0/WGK21TwIdMcgAPa89/Wl4djdumzq4YCF8odSh54b+TEkmKaHnRNSzEql3flnX1q2z2VMSb878iRFye5+3EPyy+UG1ZZ/aJzmZB5/GT/4Ojd/U7ybe1t0DO8C/zd8vADDAcZrdAp7pThT3HDny9yinKmuO3hHbSEyuKh/sI0b+AcjNPdEos96Z8l4KUMCM8NG319BTwIdM6WIiGiZhhcptv6XKj7+Dn6MApwwQ/YPGfv8AVp/VEfqd5NvciAB4/pbPXtpm9+YGXo+2areQv+MLoIcrHuVnP4+LJ9QPI85/wAAAA==\n",
       "\" /></div>\n",
       "<div style=\"width:100%;\"><img src=\"data:image/webp;base64,UklGRoQBAABXRUJQVlA4IHgBAACwIQCdASoAAQABLk02m02hJCQkBABMS0t3iQL8A/ACZAJoB/ALhvCQuyDJvTWgyb01oMm9NWYXwJIooVwu2pVESRRQrhdtSqIkiihXC7alURJFFCuF21KoiSKKFcLtqVQKPCsdOCo8gBDMAhmAQzAIZgEMwCGYBDMAhmAQzAIZgEMwCGYBDMAhmKeoOF8CSKKFcLtqVREkUUK4XbUqiJIooVwu2pVESRRQrhdtSqIkiihXC7YTz25G0FBwRtBQcEbOy8LxdI7ZXhQrhdtSqIkiihXC7alURJFFCuF21KoiSKKFcLtqVREkUUK4XD5Q1shGzpPB0ng6TwdJ4Ok8HSeDpPB0ng6TwdJ4Ok8HSeDpPB0ng6SgAAD+/5zOf/9Qj/7NXf/+zS9XRAfh070A/Dp3oB+HTvQD8MWv0ot/zH+30pXvslUgYiK/8Xwf/+oR/9mrv//ZperogPw6d6Afh070A/Dp3oB+GLX6UW/5j/b6Ur32SqQMQAAA\n",
       "\" /></div>\n",
       "</div>"
      ]
     },
     "metadata": {},
     "output_type": "display_data"
    }
   ],
   "source": [
    "w = 256\n",
    "sh = (w, w)\n",
    "val = np.sin(np.linspace(0, 10, w)) * 0.5 + 0.5\n",
    "img = np.stack([\n",
    "\tnp.broadcast_to(val[:, None], sh),\n",
    "\tnp.broadcast_to(val[None, :], sh),\n",
    "\tval[:, None] @ val[None, :],\n",
    "], axis=2)\n",
    "\n",
    "show([img, img[:, :, 0], img[:, :, 0] > 0.5])"
   ]
  },
  {
   "cell_type": "code",
   "execution_count": 6,
   "metadata": {},
   "outputs": [
    {
     "data": {
      "text/html": [
       "<div style=\"display:flex; justify-content: space-evenly;\">\n",
       "<div style=\"width:100%;\"><img src=\"data:image/webp;base64,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\n",
       "\" /></div>\n",
       "<div style=\"width:100%;\"><img src=\"data:image/webp;base64,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\n",
       "\" /></div>\n",
       "</div>"
      ]
     },
     "metadata": {},
     "output_type": "display_data"
    }
   ],
   "source": [
    "def make_coord_field(w_h, norm=False, dtype=np.float32):\n",
    "\tw, h = w_h\n",
    "\tfield_xy = np.transpose(np.mgrid[0:w, 0:h].astype(dtype), [2, 1, 0])\n",
    "\tif norm:\n",
    "\t\tfield_xy *= (1. / np.array([w-1, h-1]))\n",
    "\treturn field_xy\n",
    "\n",
    "field_xy_norm = make_coord_field((480, 320), norm=True)\n",
    "\n",
    "field_x = field_xy_norm[:, :, 0]\n",
    "field_diagonal = field_xy_norm @ [1, -1]\n",
    "\n",
    "show([field_x, field_diagonal])"
   ]
  },
  {
   "cell_type": "code",
   "execution_count": null,
   "metadata": {},
   "outputs": [],
   "source": []
  }
 ],
 "metadata": {
  "kernelspec": {
   "display_name": "Python 3 (ipykernel)",
   "language": "python",
   "name": "python3"
  },
  "language_info": {
   "codemirror_mode": {
    "name": "ipython",
    "version": 3
   },
   "file_extension": ".py",
   "mimetype": "text/x-python",
   "name": "python",
   "nbconvert_exporter": "python",
   "pygments_lexer": "ipython3",
   "version": "3.8.6"
  }
 },
 "nbformat": 4,
 "nbformat_minor": 4
}
